{
 "cells": [
  {
   "cell_type": "code",
   "execution_count": 1,
   "id": "46917922-c3c7-4e56-8f9d-f14a91e0fa84",
   "metadata": {
    "id": "hi8Sjc0_9q0C",
    "tags": []
   },
   "outputs": [],
   "source": [
    "import pandas as pd\n",
    "import numpy as np\n",
    "from sklearn.preprocessing import StandardScaler\n",
    "import utils.dimension_reduction as dr\n",
    "from sklearn.impute import KNNImputer\n",
    "from sklearn.model_selection import train_test_split\n",
    "from sklearn.tree import DecisionTreeClassifier\n",
    "from operator import itemgetter\n",
    "from tabulate import tabulate\n",
    "import utils.eval_metrics as em\n",
    "from sklearn import tree\n",
    "from sklearn import metrics\n",
    "import utils.learning_curve as lc\n",
    "import utils.cross_validation as cv\n",
    "import pickle\n",
    "\n",
    "pd.set_option('display.max_columns', None)"
   ]
  },
  {
   "cell_type": "code",
   "execution_count": 2,
   "id": "d0d9e1bd-4738-47fb-abd9-b02ae01bf57a",
   "metadata": {
    "id": "gLt9sEo3-TDN"
   },
   "outputs": [],
   "source": [
    "data = pd.read_csv(\"processed_data.csv\")"
   ]
  },
  {
   "cell_type": "code",
   "execution_count": 3,
   "id": "90467558-0fcf-429c-85ae-44a213461e3a",
   "metadata": {
    "colab": {
     "base_uri": "https://localhost:8080/",
     "height": 313
    },
    "id": "4evYis8C-bQl",
    "outputId": "1e1be9f5-6d89-4c01-a5fd-1d6d7b176fc9"
   },
   "outputs": [
    {
     "data": {
      "text/html": [
       "<div>\n",
       "<style scoped>\n",
       "    .dataframe tbody tr th:only-of-type {\n",
       "        vertical-align: middle;\n",
       "    }\n",
       "\n",
       "    .dataframe tbody tr th {\n",
       "        vertical-align: top;\n",
       "    }\n",
       "\n",
       "    .dataframe thead th {\n",
       "        text-align: right;\n",
       "    }\n",
       "</style>\n",
       "<table border=\"1\" class=\"dataframe\">\n",
       "  <thead>\n",
       "    <tr style=\"text-align: right;\">\n",
       "      <th></th>\n",
       "      <th>Gender</th>\n",
       "      <th>Marital_status</th>\n",
       "      <th>Pregnant</th>\n",
       "      <th>current_drinker</th>\n",
       "      <th>former_drinker_x</th>\n",
       "      <th>current_smoker</th>\n",
       "      <th>former_drinker_y</th>\n",
       "      <th>Aspirin_use</th>\n",
       "      <th>High_Blood_pressure</th>\n",
       "      <th>High_Cholestrol</th>\n",
       "      <th>Chest_pain</th>\n",
       "      <th>stomach problem</th>\n",
       "      <th>Chest Cold</th>\n",
       "      <th>Pneu_flu_ear infection</th>\n",
       "      <th>HIV</th>\n",
       "      <th>Diabetes</th>\n",
       "      <th>Difficulty Hearing</th>\n",
       "      <th>Difficulty Seeing</th>\n",
       "      <th>Hepatitis_B</th>\n",
       "      <th>Hepatitis_C</th>\n",
       "      <th>hospitalized</th>\n",
       "      <th>Weak Kidney</th>\n",
       "      <th>Kidney Stone</th>\n",
       "      <th>Pesticide_used</th>\n",
       "      <th>anemia</th>\n",
       "      <th>overweight</th>\n",
       "      <th>blood_transfusion</th>\n",
       "      <th>arthritis</th>\n",
       "      <th>gout</th>\n",
       "      <th>congestive heart failure</th>\n",
       "      <th>coronary heart disease</th>\n",
       "      <th>heart attack</th>\n",
       "      <th>stroke</th>\n",
       "      <th>emphysema</th>\n",
       "      <th>thyroid</th>\n",
       "      <th>chronic bronchitis</th>\n",
       "      <th>liver problem</th>\n",
       "      <th>COPD</th>\n",
       "      <th>jaundice</th>\n",
       "      <th>cancer</th>\n",
       "      <th>kidney_cancer</th>\n",
       "      <th>Farmer</th>\n",
       "      <th>smoked_in_pregnancy</th>\n",
       "      <th>Prescribed_medicine</th>\n",
       "      <th>HC2</th>\n",
       "      <th>HC3</th>\n",
       "      <th>HC4</th>\n",
       "      <th>HC5</th>\n",
       "      <th>days_hospitalised_1</th>\n",
       "      <th>days_hospitalised_2</th>\n",
       "      <th>days_hospitalised_3</th>\n",
       "      <th>days_hospitalised_4</th>\n",
       "      <th>days_hospitalised_5</th>\n",
       "      <th>days_hospitalised_6</th>\n",
       "      <th>Age</th>\n",
       "      <th>Env_Subsamp_B_wts_x</th>\n",
       "      <th>2,4-D</th>\n",
       "      <th>3,5,6-trichloropyridinol</th>\n",
       "      <th>4-fluoro-3-phenoxy-benzoic acid</th>\n",
       "      <th>3-phenoxybenzoic acid</th>\n",
       "      <th>Oxypyrimidine</th>\n",
       "      <th>para-Nitrophenol</th>\n",
       "      <th>Dichlorovnl-dimeth prop carboacid</th>\n",
       "      <th>Malathion diacid</th>\n",
       "      <th>Env_Subsamp_B_wts_y</th>\n",
       "      <th>Dimethylphosphate</th>\n",
       "      <th>Diethylphosphate</th>\n",
       "      <th>Dimethylthiophosphate</th>\n",
       "      <th>Diethylthiophosphate</th>\n",
       "      <th>Dimethyldithiophosphate</th>\n",
       "      <th>Diethyldithiophosphate</th>\n",
       "      <th>surplus specimen_B_2y_wts</th>\n",
       "      <th>Imidacloprid</th>\n",
       "      <th>Acetamiprid</th>\n",
       "      <th>Clothianidin</th>\n",
       "      <th>Thiacloprid</th>\n",
       "      <th>5-Hydroxyimidacloprid</th>\n",
       "      <th>N-Desmethylacetamiprid</th>\n",
       "      <th>surplus specimen_GLYP_2y_wts</th>\n",
       "      <th>Glyphosate</th>\n",
       "      <th>UACR</th>\n",
       "    </tr>\n",
       "  </thead>\n",
       "  <tbody>\n",
       "    <tr>\n",
       "      <th>0</th>\n",
       "      <td>1.0</td>\n",
       "      <td>0.0</td>\n",
       "      <td>1.0</td>\n",
       "      <td>0.0</td>\n",
       "      <td>1.0</td>\n",
       "      <td>0.0</td>\n",
       "      <td>0.0</td>\n",
       "      <td>0.0</td>\n",
       "      <td>0.0</td>\n",
       "      <td>0.0</td>\n",
       "      <td>1.0</td>\n",
       "      <td>0.0</td>\n",
       "      <td>0.0</td>\n",
       "      <td>0.0</td>\n",
       "      <td>1.0</td>\n",
       "      <td>0.0</td>\n",
       "      <td>0.0</td>\n",
       "      <td>0.0</td>\n",
       "      <td>0.0</td>\n",
       "      <td>0.0</td>\n",
       "      <td>0.0</td>\n",
       "      <td>0.0</td>\n",
       "      <td>0.0</td>\n",
       "      <td>1.0</td>\n",
       "      <td>0.0</td>\n",
       "      <td>0.0</td>\n",
       "      <td>0.0</td>\n",
       "      <td>0.0</td>\n",
       "      <td>0.0</td>\n",
       "      <td>0.0</td>\n",
       "      <td>0.0</td>\n",
       "      <td>0.0</td>\n",
       "      <td>0.0</td>\n",
       "      <td>0.0</td>\n",
       "      <td>0.0</td>\n",
       "      <td>0.0</td>\n",
       "      <td>0.0</td>\n",
       "      <td>0.0</td>\n",
       "      <td>0.0</td>\n",
       "      <td>0.0</td>\n",
       "      <td>0.0</td>\n",
       "      <td>1.0</td>\n",
       "      <td>0.0</td>\n",
       "      <td>1.0</td>\n",
       "      <td>0</td>\n",
       "      <td>0</td>\n",
       "      <td>1</td>\n",
       "      <td>0</td>\n",
       "      <td>0</td>\n",
       "      <td>0</td>\n",
       "      <td>0</td>\n",
       "      <td>0</td>\n",
       "      <td>0</td>\n",
       "      <td>0</td>\n",
       "      <td>-0.108628</td>\n",
       "      <td>-0.518634</td>\n",
       "      <td>-0.190293</td>\n",
       "      <td>-0.140932</td>\n",
       "      <td>-0.07757</td>\n",
       "      <td>0.543686</td>\n",
       "      <td>1.021701</td>\n",
       "      <td>0.071507</td>\n",
       "      <td>-0.021614</td>\n",
       "      <td>-0.121833</td>\n",
       "      <td>-0.518634</td>\n",
       "      <td>-0.256235</td>\n",
       "      <td>0.382072</td>\n",
       "      <td>-0.290586</td>\n",
       "      <td>-0.082660</td>\n",
       "      <td>-0.227729</td>\n",
       "      <td>-0.119027</td>\n",
       "      <td>-0.495505</td>\n",
       "      <td>-0.127305</td>\n",
       "      <td>-0.057047</td>\n",
       "      <td>-0.097582</td>\n",
       "      <td>-0.023447</td>\n",
       "      <td>-0.163357</td>\n",
       "      <td>-0.348441</td>\n",
       "      <td>-0.359301</td>\n",
       "      <td>-0.346669</td>\n",
       "      <td>0</td>\n",
       "    </tr>\n",
       "    <tr>\n",
       "      <th>1</th>\n",
       "      <td>0.0</td>\n",
       "      <td>0.0</td>\n",
       "      <td>0.0</td>\n",
       "      <td>1.0</td>\n",
       "      <td>0.0</td>\n",
       "      <td>0.0</td>\n",
       "      <td>0.0</td>\n",
       "      <td>1.0</td>\n",
       "      <td>0.0</td>\n",
       "      <td>0.0</td>\n",
       "      <td>0.0</td>\n",
       "      <td>0.0</td>\n",
       "      <td>0.0</td>\n",
       "      <td>0.0</td>\n",
       "      <td>0.0</td>\n",
       "      <td>0.0</td>\n",
       "      <td>0.0</td>\n",
       "      <td>0.0</td>\n",
       "      <td>0.0</td>\n",
       "      <td>0.0</td>\n",
       "      <td>0.0</td>\n",
       "      <td>0.0</td>\n",
       "      <td>0.0</td>\n",
       "      <td>0.0</td>\n",
       "      <td>0.0</td>\n",
       "      <td>0.0</td>\n",
       "      <td>0.0</td>\n",
       "      <td>0.0</td>\n",
       "      <td>0.0</td>\n",
       "      <td>0.0</td>\n",
       "      <td>0.0</td>\n",
       "      <td>0.0</td>\n",
       "      <td>0.0</td>\n",
       "      <td>0.0</td>\n",
       "      <td>0.0</td>\n",
       "      <td>0.0</td>\n",
       "      <td>0.0</td>\n",
       "      <td>0.0</td>\n",
       "      <td>0.0</td>\n",
       "      <td>0.0</td>\n",
       "      <td>1.0</td>\n",
       "      <td>0.0</td>\n",
       "      <td>0.0</td>\n",
       "      <td>0.0</td>\n",
       "      <td>0</td>\n",
       "      <td>1</td>\n",
       "      <td>0</td>\n",
       "      <td>0</td>\n",
       "      <td>0</td>\n",
       "      <td>0</td>\n",
       "      <td>0</td>\n",
       "      <td>0</td>\n",
       "      <td>0</td>\n",
       "      <td>0</td>\n",
       "      <td>-1.556004</td>\n",
       "      <td>-0.502088</td>\n",
       "      <td>-0.135787</td>\n",
       "      <td>-0.537448</td>\n",
       "      <td>-0.07757</td>\n",
       "      <td>-0.283344</td>\n",
       "      <td>-0.132227</td>\n",
       "      <td>2.774817</td>\n",
       "      <td>-0.183337</td>\n",
       "      <td>-0.121833</td>\n",
       "      <td>-0.502088</td>\n",
       "      <td>-0.381923</td>\n",
       "      <td>0.308823</td>\n",
       "      <td>-0.315169</td>\n",
       "      <td>-0.239351</td>\n",
       "      <td>-0.253029</td>\n",
       "      <td>-0.119027</td>\n",
       "      <td>-0.404546</td>\n",
       "      <td>0.413754</td>\n",
       "      <td>-0.057047</td>\n",
       "      <td>-0.097582</td>\n",
       "      <td>-0.023447</td>\n",
       "      <td>0.241930</td>\n",
       "      <td>0.764528</td>\n",
       "      <td>-0.794029</td>\n",
       "      <td>-0.442560</td>\n",
       "      <td>0</td>\n",
       "    </tr>\n",
       "    <tr>\n",
       "      <th>2</th>\n",
       "      <td>1.0</td>\n",
       "      <td>0.0</td>\n",
       "      <td>0.0</td>\n",
       "      <td>1.0</td>\n",
       "      <td>0.0</td>\n",
       "      <td>0.0</td>\n",
       "      <td>0.0</td>\n",
       "      <td>1.0</td>\n",
       "      <td>0.0</td>\n",
       "      <td>0.0</td>\n",
       "      <td>1.0</td>\n",
       "      <td>0.0</td>\n",
       "      <td>0.0</td>\n",
       "      <td>0.0</td>\n",
       "      <td>0.0</td>\n",
       "      <td>0.0</td>\n",
       "      <td>0.0</td>\n",
       "      <td>0.0</td>\n",
       "      <td>0.0</td>\n",
       "      <td>0.0</td>\n",
       "      <td>0.0</td>\n",
       "      <td>0.0</td>\n",
       "      <td>0.0</td>\n",
       "      <td>0.0</td>\n",
       "      <td>0.0</td>\n",
       "      <td>0.0</td>\n",
       "      <td>0.0</td>\n",
       "      <td>0.0</td>\n",
       "      <td>0.0</td>\n",
       "      <td>0.0</td>\n",
       "      <td>0.0</td>\n",
       "      <td>0.0</td>\n",
       "      <td>0.0</td>\n",
       "      <td>0.0</td>\n",
       "      <td>0.0</td>\n",
       "      <td>0.0</td>\n",
       "      <td>0.0</td>\n",
       "      <td>0.0</td>\n",
       "      <td>0.0</td>\n",
       "      <td>0.0</td>\n",
       "      <td>1.0</td>\n",
       "      <td>0.0</td>\n",
       "      <td>1.0</td>\n",
       "      <td>0.0</td>\n",
       "      <td>0</td>\n",
       "      <td>1</td>\n",
       "      <td>0</td>\n",
       "      <td>0</td>\n",
       "      <td>0</td>\n",
       "      <td>0</td>\n",
       "      <td>0</td>\n",
       "      <td>0</td>\n",
       "      <td>0</td>\n",
       "      <td>0</td>\n",
       "      <td>-1.137026</td>\n",
       "      <td>-0.197805</td>\n",
       "      <td>0.022777</td>\n",
       "      <td>-0.245279</td>\n",
       "      <td>-0.07757</td>\n",
       "      <td>1.175124</td>\n",
       "      <td>0.077578</td>\n",
       "      <td>0.071507</td>\n",
       "      <td>0.715355</td>\n",
       "      <td>-0.121833</td>\n",
       "      <td>-0.197805</td>\n",
       "      <td>-0.335284</td>\n",
       "      <td>-0.223603</td>\n",
       "      <td>-0.251700</td>\n",
       "      <td>-0.165348</td>\n",
       "      <td>-0.155442</td>\n",
       "      <td>-0.119027</td>\n",
       "      <td>-0.136210</td>\n",
       "      <td>-0.127305</td>\n",
       "      <td>-0.057047</td>\n",
       "      <td>-0.097582</td>\n",
       "      <td>-0.023447</td>\n",
       "      <td>0.102132</td>\n",
       "      <td>-0.348441</td>\n",
       "      <td>-0.017631</td>\n",
       "      <td>0.043225</td>\n",
       "      <td>0</td>\n",
       "    </tr>\n",
       "    <tr>\n",
       "      <th>3</th>\n",
       "      <td>1.0</td>\n",
       "      <td>0.0</td>\n",
       "      <td>0.0</td>\n",
       "      <td>0.0</td>\n",
       "      <td>0.0</td>\n",
       "      <td>0.0</td>\n",
       "      <td>0.0</td>\n",
       "      <td>1.0</td>\n",
       "      <td>1.0</td>\n",
       "      <td>0.0</td>\n",
       "      <td>0.0</td>\n",
       "      <td>0.0</td>\n",
       "      <td>0.0</td>\n",
       "      <td>0.0</td>\n",
       "      <td>0.0</td>\n",
       "      <td>0.0</td>\n",
       "      <td>0.0</td>\n",
       "      <td>0.0</td>\n",
       "      <td>0.0</td>\n",
       "      <td>0.0</td>\n",
       "      <td>0.0</td>\n",
       "      <td>0.0</td>\n",
       "      <td>0.0</td>\n",
       "      <td>0.0</td>\n",
       "      <td>0.0</td>\n",
       "      <td>0.0</td>\n",
       "      <td>0.0</td>\n",
       "      <td>0.0</td>\n",
       "      <td>0.0</td>\n",
       "      <td>0.0</td>\n",
       "      <td>0.0</td>\n",
       "      <td>0.0</td>\n",
       "      <td>0.0</td>\n",
       "      <td>0.0</td>\n",
       "      <td>0.0</td>\n",
       "      <td>0.0</td>\n",
       "      <td>0.0</td>\n",
       "      <td>0.0</td>\n",
       "      <td>0.0</td>\n",
       "      <td>0.0</td>\n",
       "      <td>1.0</td>\n",
       "      <td>0.0</td>\n",
       "      <td>0.0</td>\n",
       "      <td>0.0</td>\n",
       "      <td>0</td>\n",
       "      <td>1</td>\n",
       "      <td>0</td>\n",
       "      <td>0</td>\n",
       "      <td>0</td>\n",
       "      <td>0</td>\n",
       "      <td>0</td>\n",
       "      <td>0</td>\n",
       "      <td>0</td>\n",
       "      <td>0</td>\n",
       "      <td>-1.556004</td>\n",
       "      <td>-0.784983</td>\n",
       "      <td>-0.120921</td>\n",
       "      <td>-0.500927</td>\n",
       "      <td>-0.07757</td>\n",
       "      <td>-0.258703</td>\n",
       "      <td>-0.132227</td>\n",
       "      <td>-0.251571</td>\n",
       "      <td>-0.183337</td>\n",
       "      <td>-0.121833</td>\n",
       "      <td>-0.784983</td>\n",
       "      <td>0.011214</td>\n",
       "      <td>-0.030093</td>\n",
       "      <td>0.180716</td>\n",
       "      <td>0.723454</td>\n",
       "      <td>-0.107733</td>\n",
       "      <td>-0.119027</td>\n",
       "      <td>-0.858739</td>\n",
       "      <td>-0.127305</td>\n",
       "      <td>-0.057047</td>\n",
       "      <td>-0.097582</td>\n",
       "      <td>-0.023447</td>\n",
       "      <td>-0.163357</td>\n",
       "      <td>-0.139621</td>\n",
       "      <td>-0.794029</td>\n",
       "      <td>-0.223519</td>\n",
       "      <td>0</td>\n",
       "    </tr>\n",
       "    <tr>\n",
       "      <th>4</th>\n",
       "      <td>0.0</td>\n",
       "      <td>0.0</td>\n",
       "      <td>0.0</td>\n",
       "      <td>0.0</td>\n",
       "      <td>0.0</td>\n",
       "      <td>0.0</td>\n",
       "      <td>0.0</td>\n",
       "      <td>1.0</td>\n",
       "      <td>1.0</td>\n",
       "      <td>0.0</td>\n",
       "      <td>0.0</td>\n",
       "      <td>0.0</td>\n",
       "      <td>0.0</td>\n",
       "      <td>0.0</td>\n",
       "      <td>0.0</td>\n",
       "      <td>0.0</td>\n",
       "      <td>0.0</td>\n",
       "      <td>0.0</td>\n",
       "      <td>0.0</td>\n",
       "      <td>0.0</td>\n",
       "      <td>0.0</td>\n",
       "      <td>0.0</td>\n",
       "      <td>0.0</td>\n",
       "      <td>0.0</td>\n",
       "      <td>0.0</td>\n",
       "      <td>0.0</td>\n",
       "      <td>0.0</td>\n",
       "      <td>0.0</td>\n",
       "      <td>0.0</td>\n",
       "      <td>0.0</td>\n",
       "      <td>0.0</td>\n",
       "      <td>0.0</td>\n",
       "      <td>0.0</td>\n",
       "      <td>0.0</td>\n",
       "      <td>0.0</td>\n",
       "      <td>0.0</td>\n",
       "      <td>0.0</td>\n",
       "      <td>0.0</td>\n",
       "      <td>0.0</td>\n",
       "      <td>0.0</td>\n",
       "      <td>1.0</td>\n",
       "      <td>0.0</td>\n",
       "      <td>0.0</td>\n",
       "      <td>1.0</td>\n",
       "      <td>0</td>\n",
       "      <td>1</td>\n",
       "      <td>0</td>\n",
       "      <td>0</td>\n",
       "      <td>0</td>\n",
       "      <td>0</td>\n",
       "      <td>0</td>\n",
       "      <td>0</td>\n",
       "      <td>0</td>\n",
       "      <td>0</td>\n",
       "      <td>-1.594093</td>\n",
       "      <td>-0.785710</td>\n",
       "      <td>-0.185338</td>\n",
       "      <td>-0.819183</td>\n",
       "      <td>-0.07757</td>\n",
       "      <td>-0.263323</td>\n",
       "      <td>-0.132227</td>\n",
       "      <td>-0.508715</td>\n",
       "      <td>-0.183337</td>\n",
       "      <td>-0.121833</td>\n",
       "      <td>-0.785710</td>\n",
       "      <td>-0.416705</td>\n",
       "      <td>-0.450130</td>\n",
       "      <td>-0.283805</td>\n",
       "      <td>-0.239351</td>\n",
       "      <td>-0.253029</td>\n",
       "      <td>-0.119027</td>\n",
       "      <td>-0.858739</td>\n",
       "      <td>-0.127305</td>\n",
       "      <td>-0.057047</td>\n",
       "      <td>-0.097582</td>\n",
       "      <td>-0.023447</td>\n",
       "      <td>-0.163357</td>\n",
       "      <td>-0.139621</td>\n",
       "      <td>-0.794029</td>\n",
       "      <td>-0.223519</td>\n",
       "      <td>0</td>\n",
       "    </tr>\n",
       "  </tbody>\n",
       "</table>\n",
       "</div>"
      ],
      "text/plain": [
       "   Gender  Marital_status  Pregnant  current_drinker  former_drinker_x  \\\n",
       "0     1.0             0.0       1.0              0.0               1.0   \n",
       "1     0.0             0.0       0.0              1.0               0.0   \n",
       "2     1.0             0.0       0.0              1.0               0.0   \n",
       "3     1.0             0.0       0.0              0.0               0.0   \n",
       "4     0.0             0.0       0.0              0.0               0.0   \n",
       "\n",
       "   current_smoker  former_drinker_y  Aspirin_use  High_Blood_pressure  \\\n",
       "0             0.0               0.0          0.0                  0.0   \n",
       "1             0.0               0.0          1.0                  0.0   \n",
       "2             0.0               0.0          1.0                  0.0   \n",
       "3             0.0               0.0          1.0                  1.0   \n",
       "4             0.0               0.0          1.0                  1.0   \n",
       "\n",
       "   High_Cholestrol  Chest_pain  stomach problem  Chest Cold  \\\n",
       "0              0.0         1.0              0.0         0.0   \n",
       "1              0.0         0.0              0.0         0.0   \n",
       "2              0.0         1.0              0.0         0.0   \n",
       "3              0.0         0.0              0.0         0.0   \n",
       "4              0.0         0.0              0.0         0.0   \n",
       "\n",
       "   Pneu_flu_ear infection  HIV  Diabetes  Difficulty Hearing  \\\n",
       "0                     0.0  1.0       0.0                 0.0   \n",
       "1                     0.0  0.0       0.0                 0.0   \n",
       "2                     0.0  0.0       0.0                 0.0   \n",
       "3                     0.0  0.0       0.0                 0.0   \n",
       "4                     0.0  0.0       0.0                 0.0   \n",
       "\n",
       "   Difficulty Seeing  Hepatitis_B  Hepatitis_C  hospitalized  Weak Kidney  \\\n",
       "0                0.0          0.0          0.0           0.0          0.0   \n",
       "1                0.0          0.0          0.0           0.0          0.0   \n",
       "2                0.0          0.0          0.0           0.0          0.0   \n",
       "3                0.0          0.0          0.0           0.0          0.0   \n",
       "4                0.0          0.0          0.0           0.0          0.0   \n",
       "\n",
       "   Kidney Stone  Pesticide_used  anemia  overweight  blood_transfusion  \\\n",
       "0           0.0             1.0     0.0         0.0                0.0   \n",
       "1           0.0             0.0     0.0         0.0                0.0   \n",
       "2           0.0             0.0     0.0         0.0                0.0   \n",
       "3           0.0             0.0     0.0         0.0                0.0   \n",
       "4           0.0             0.0     0.0         0.0                0.0   \n",
       "\n",
       "   arthritis  gout  congestive heart failure  coronary heart disease  \\\n",
       "0        0.0   0.0                       0.0                     0.0   \n",
       "1        0.0   0.0                       0.0                     0.0   \n",
       "2        0.0   0.0                       0.0                     0.0   \n",
       "3        0.0   0.0                       0.0                     0.0   \n",
       "4        0.0   0.0                       0.0                     0.0   \n",
       "\n",
       "   heart attack  stroke  emphysema  thyroid  chronic bronchitis  \\\n",
       "0           0.0     0.0        0.0      0.0                 0.0   \n",
       "1           0.0     0.0        0.0      0.0                 0.0   \n",
       "2           0.0     0.0        0.0      0.0                 0.0   \n",
       "3           0.0     0.0        0.0      0.0                 0.0   \n",
       "4           0.0     0.0        0.0      0.0                 0.0   \n",
       "\n",
       "   liver problem  COPD  jaundice  cancer  kidney_cancer  Farmer  \\\n",
       "0            0.0   0.0       0.0     0.0            0.0     1.0   \n",
       "1            0.0   0.0       0.0     0.0            1.0     0.0   \n",
       "2            0.0   0.0       0.0     0.0            1.0     0.0   \n",
       "3            0.0   0.0       0.0     0.0            1.0     0.0   \n",
       "4            0.0   0.0       0.0     0.0            1.0     0.0   \n",
       "\n",
       "   smoked_in_pregnancy  Prescribed_medicine  HC2  HC3  HC4  HC5  \\\n",
       "0                  0.0                  1.0    0    0    1    0   \n",
       "1                  0.0                  0.0    0    1    0    0   \n",
       "2                  1.0                  0.0    0    1    0    0   \n",
       "3                  0.0                  0.0    0    1    0    0   \n",
       "4                  0.0                  1.0    0    1    0    0   \n",
       "\n",
       "   days_hospitalised_1  days_hospitalised_2  days_hospitalised_3  \\\n",
       "0                    0                    0                    0   \n",
       "1                    0                    0                    0   \n",
       "2                    0                    0                    0   \n",
       "3                    0                    0                    0   \n",
       "4                    0                    0                    0   \n",
       "\n",
       "   days_hospitalised_4  days_hospitalised_5  days_hospitalised_6       Age  \\\n",
       "0                    0                    0                    0 -0.108628   \n",
       "1                    0                    0                    0 -1.556004   \n",
       "2                    0                    0                    0 -1.137026   \n",
       "3                    0                    0                    0 -1.556004   \n",
       "4                    0                    0                    0 -1.594093   \n",
       "\n",
       "   Env_Subsamp_B_wts_x     2,4-D  3,5,6-trichloropyridinol  \\\n",
       "0            -0.518634 -0.190293                 -0.140932   \n",
       "1            -0.502088 -0.135787                 -0.537448   \n",
       "2            -0.197805  0.022777                 -0.245279   \n",
       "3            -0.784983 -0.120921                 -0.500927   \n",
       "4            -0.785710 -0.185338                 -0.819183   \n",
       "\n",
       "   4-fluoro-3-phenoxy-benzoic acid  3-phenoxybenzoic acid  Oxypyrimidine  \\\n",
       "0                         -0.07757               0.543686       1.021701   \n",
       "1                         -0.07757              -0.283344      -0.132227   \n",
       "2                         -0.07757               1.175124       0.077578   \n",
       "3                         -0.07757              -0.258703      -0.132227   \n",
       "4                         -0.07757              -0.263323      -0.132227   \n",
       "\n",
       "   para-Nitrophenol  Dichlorovnl-dimeth prop carboacid  Malathion diacid  \\\n",
       "0          0.071507                          -0.021614         -0.121833   \n",
       "1          2.774817                          -0.183337         -0.121833   \n",
       "2          0.071507                           0.715355         -0.121833   \n",
       "3         -0.251571                          -0.183337         -0.121833   \n",
       "4         -0.508715                          -0.183337         -0.121833   \n",
       "\n",
       "   Env_Subsamp_B_wts_y  Dimethylphosphate  Diethylphosphate  \\\n",
       "0            -0.518634          -0.256235          0.382072   \n",
       "1            -0.502088          -0.381923          0.308823   \n",
       "2            -0.197805          -0.335284         -0.223603   \n",
       "3            -0.784983           0.011214         -0.030093   \n",
       "4            -0.785710          -0.416705         -0.450130   \n",
       "\n",
       "   Dimethylthiophosphate  Diethylthiophosphate  Dimethyldithiophosphate  \\\n",
       "0              -0.290586             -0.082660                -0.227729   \n",
       "1              -0.315169             -0.239351                -0.253029   \n",
       "2              -0.251700             -0.165348                -0.155442   \n",
       "3               0.180716              0.723454                -0.107733   \n",
       "4              -0.283805             -0.239351                -0.253029   \n",
       "\n",
       "   Diethyldithiophosphate  surplus specimen_B_2y_wts  Imidacloprid  \\\n",
       "0               -0.119027                  -0.495505     -0.127305   \n",
       "1               -0.119027                  -0.404546      0.413754   \n",
       "2               -0.119027                  -0.136210     -0.127305   \n",
       "3               -0.119027                  -0.858739     -0.127305   \n",
       "4               -0.119027                  -0.858739     -0.127305   \n",
       "\n",
       "   Acetamiprid  Clothianidin  Thiacloprid  5-Hydroxyimidacloprid  \\\n",
       "0    -0.057047     -0.097582    -0.023447              -0.163357   \n",
       "1    -0.057047     -0.097582    -0.023447               0.241930   \n",
       "2    -0.057047     -0.097582    -0.023447               0.102132   \n",
       "3    -0.057047     -0.097582    -0.023447              -0.163357   \n",
       "4    -0.057047     -0.097582    -0.023447              -0.163357   \n",
       "\n",
       "   N-Desmethylacetamiprid  surplus specimen_GLYP_2y_wts  Glyphosate  UACR  \n",
       "0               -0.348441                     -0.359301   -0.346669     0  \n",
       "1                0.764528                     -0.794029   -0.442560     0  \n",
       "2               -0.348441                     -0.017631    0.043225     0  \n",
       "3               -0.139621                     -0.794029   -0.223519     0  \n",
       "4               -0.139621                     -0.794029   -0.223519     0  "
      ]
     },
     "execution_count": 3,
     "metadata": {},
     "output_type": "execute_result"
    }
   ],
   "source": [
    "data.head()"
   ]
  },
  {
   "cell_type": "markdown",
   "id": "50cf23af-8fee-433d-b6b7-6a6910389a3d",
   "metadata": {
    "tags": []
   },
   "source": [
    "### Data preparation"
   ]
  },
  {
   "cell_type": "code",
   "execution_count": 4,
   "id": "7710de77-9ea1-452f-b598-c4157b24c5bc",
   "metadata": {
    "id": "A4R9Dvu9-8yG"
   },
   "outputs": [],
   "source": [
    "y = data['UACR']\n",
    "X = data.drop(columns=['UACR'])"
   ]
  },
  {
   "cell_type": "code",
   "execution_count": 5,
   "id": "bd88e1ad-6345-427c-9d9f-a1653c12eed8",
   "metadata": {
    "colab": {
     "base_uri": "https://localhost:8080/"
    },
    "id": "BvQ6CfVy_ABu",
    "outputId": "bf768513-a3a5-4ea2-8eaf-62510346a28a"
   },
   "outputs": [
    {
     "data": {
      "text/plain": [
       "((6221, 80), (6221,))"
      ]
     },
     "execution_count": 5,
     "metadata": {},
     "output_type": "execute_result"
    }
   ],
   "source": [
    "X.shape, y.shape"
   ]
  },
  {
   "cell_type": "markdown",
   "id": "d1cf9027-27d6-40a6-a416-733dea1576fb",
   "metadata": {},
   "source": [
    "### p-significant features"
   ]
  },
  {
   "cell_type": "code",
   "execution_count": 6,
   "id": "50fc2a64-9f62-4701-a040-994a9443211c",
   "metadata": {
    "colab": {
     "base_uri": "https://localhost:8080/"
    },
    "id": "KbrK97IgjM1w",
    "outputId": "49ffbeb6-5233-4f41-a83d-e63039adc153"
   },
   "outputs": [
    {
     "name": "stdout",
     "output_type": "stream",
     "text": [
      "**************************************************\n",
      "significant features\n",
      "**************************************************\n",
      "                       Feature_name       p-Value\n",
      "0                          Diabetes  1.835453e-38\n",
      "1                       Weak Kidney  1.719359e-24\n",
      "2                      heart attack  5.844099e-22\n",
      "3                      Kidney Stone  3.060326e-14\n",
      "4          congestive heart failure  1.888667e-10\n",
      "5                         emphysema  8.199856e-09\n",
      "6               days_hospitalised_5  1.873313e-07\n",
      "7                        Chest_pain  3.370932e-05\n",
      "8                            stroke  3.863883e-05\n",
      "9                               Age  6.562183e-05\n",
      "10                            const  9.813391e-05\n",
      "11                 para-Nitrophenol  1.920579e-04\n",
      "12              High_Blood_pressure  2.065908e-04\n",
      "13                             gout  2.447367e-04\n",
      "14                        arthritis  2.755482e-04\n",
      "15          Dimethyldithiophosphate  3.307510e-04\n",
      "16                            2,4-D  8.690060e-04\n",
      "17  4-fluoro-3-phenoxy-benzoic acid  1.085888e-03\n",
      "18                      Aspirin_use  1.414482e-03\n",
      "19                       Chest Cold  2.485816e-03\n",
      "20                          thyroid  4.110294e-03\n",
      "21           Pneu_flu_ear infection  6.687396e-03\n",
      "22              days_hospitalised_6  1.101415e-02\n",
      "23              days_hospitalised_4  1.128161e-02\n",
      "24                   Marital_status  1.269508e-02\n",
      "25                Dimethylphosphate  1.337139e-02\n",
      "26                     hospitalized  1.370633e-02\n",
      "27                 former_drinker_y  1.425014e-02\n",
      "28           coronary heart disease  1.967689e-02\n",
      "29     surplus specimen_GLYP_2y_wts  2.045341e-02\n",
      "30                      Hepatitis_C  2.165571e-02\n",
      "31               Difficulty Hearing  2.578286e-02\n",
      "32                           anemia  2.607159e-02\n",
      "33              days_hospitalised_1  2.609960e-02\n",
      "34                             COPD  3.090191e-02\n",
      "35                           Gender  3.507163e-02\n"
     ]
    }
   ],
   "source": [
    "X_significant= dr.get_p_values_significant_features(X,y)"
   ]
  },
  {
   "cell_type": "markdown",
   "id": "3af2d18c-5443-418c-9643-77dc08cd5f60",
   "metadata": {},
   "source": [
    "### Train test split"
   ]
  },
  {
   "cell_type": "code",
   "execution_count": 7,
   "id": "85bfe65c-2eac-424c-b5b4-fad402cb04ec",
   "metadata": {
    "id": "40DK0AK-_YB8"
   },
   "outputs": [],
   "source": [
    "X_train_full, X_test, y_train_full, y_test = train_test_split(X_significant, y, test_size=0.2, random_state=2)"
   ]
  },
  {
   "cell_type": "code",
   "execution_count": 8,
   "id": "2aef3fbf-7bd3-499c-a66b-00b69534cb7c",
   "metadata": {
    "id": "tQpKOS3B_bru"
   },
   "outputs": [],
   "source": [
    "X_train, X_valid, y_train, y_valid = train_test_split(X_train_full, y_train_full, test_size=0.2, random_state=2)"
   ]
  },
  {
   "cell_type": "code",
   "execution_count": 9,
   "id": "35c97828-bb54-4af2-ae4f-86f9adf38983",
   "metadata": {
    "colab": {
     "base_uri": "https://localhost:8080/"
    },
    "id": "FfbsxQZd_f_O",
    "outputId": "5501f749-000d-4f14-af4a-7cb83652bfb2"
   },
   "outputs": [
    {
     "name": "stdout",
     "output_type": "stream",
     "text": [
      "train data(X_train,y_train) shape:  (3980, 36) (3980,)\n",
      "validation data(X_valid,y_valid) shape:  (996, 36) (996,)\n",
      "test data(X_test,y_test) shape:  (1245, 36) (1245,)\n"
     ]
    }
   ],
   "source": [
    "print('train data(X_train,y_train) shape: ',X_train.shape, y_train.shape)\n",
    "print('validation data(X_valid,y_valid) shape: ',X_valid.shape, y_valid.shape)\n",
    "print('test data(X_test,y_test) shape: ',X_test.shape, y_test.shape)"
   ]
  },
  {
   "cell_type": "markdown",
   "id": "a04c8b54-51a3-4e93-818e-7c2f116394c2",
   "metadata": {},
   "source": [
    "### SVC Baseline"
   ]
  },
  {
   "cell_type": "code",
   "execution_count": 10,
   "id": "d343d503-e8bd-4383-acc3-d5277f2534a4",
   "metadata": {},
   "outputs": [],
   "source": [
    "from sklearn.svm import SVC"
   ]
  },
  {
   "cell_type": "code",
   "execution_count": 11,
   "id": "2f8cdc64-1c00-4f50-9cba-cabec46f8c39",
   "metadata": {},
   "outputs": [
    {
     "data": {
      "text/html": [
       "<style>#sk-container-id-1 {color: black;}#sk-container-id-1 pre{padding: 0;}#sk-container-id-1 div.sk-toggleable {background-color: white;}#sk-container-id-1 label.sk-toggleable__label {cursor: pointer;display: block;width: 100%;margin-bottom: 0;padding: 0.3em;box-sizing: border-box;text-align: center;}#sk-container-id-1 label.sk-toggleable__label-arrow:before {content: \"▸\";float: left;margin-right: 0.25em;color: #696969;}#sk-container-id-1 label.sk-toggleable__label-arrow:hover:before {color: black;}#sk-container-id-1 div.sk-estimator:hover label.sk-toggleable__label-arrow:before {color: black;}#sk-container-id-1 div.sk-toggleable__content {max-height: 0;max-width: 0;overflow: hidden;text-align: left;background-color: #f0f8ff;}#sk-container-id-1 div.sk-toggleable__content pre {margin: 0.2em;color: black;border-radius: 0.25em;background-color: #f0f8ff;}#sk-container-id-1 input.sk-toggleable__control:checked~div.sk-toggleable__content {max-height: 200px;max-width: 100%;overflow: auto;}#sk-container-id-1 input.sk-toggleable__control:checked~label.sk-toggleable__label-arrow:before {content: \"▾\";}#sk-container-id-1 div.sk-estimator input.sk-toggleable__control:checked~label.sk-toggleable__label {background-color: #d4ebff;}#sk-container-id-1 div.sk-label input.sk-toggleable__control:checked~label.sk-toggleable__label {background-color: #d4ebff;}#sk-container-id-1 input.sk-hidden--visually {border: 0;clip: rect(1px 1px 1px 1px);clip: rect(1px, 1px, 1px, 1px);height: 1px;margin: -1px;overflow: hidden;padding: 0;position: absolute;width: 1px;}#sk-container-id-1 div.sk-estimator {font-family: monospace;background-color: #f0f8ff;border: 1px dotted black;border-radius: 0.25em;box-sizing: border-box;margin-bottom: 0.5em;}#sk-container-id-1 div.sk-estimator:hover {background-color: #d4ebff;}#sk-container-id-1 div.sk-parallel-item::after {content: \"\";width: 100%;border-bottom: 1px solid gray;flex-grow: 1;}#sk-container-id-1 div.sk-label:hover label.sk-toggleable__label {background-color: #d4ebff;}#sk-container-id-1 div.sk-serial::before {content: \"\";position: absolute;border-left: 1px solid gray;box-sizing: border-box;top: 0;bottom: 0;left: 50%;z-index: 0;}#sk-container-id-1 div.sk-serial {display: flex;flex-direction: column;align-items: center;background-color: white;padding-right: 0.2em;padding-left: 0.2em;position: relative;}#sk-container-id-1 div.sk-item {position: relative;z-index: 1;}#sk-container-id-1 div.sk-parallel {display: flex;align-items: stretch;justify-content: center;background-color: white;position: relative;}#sk-container-id-1 div.sk-item::before, #sk-container-id-1 div.sk-parallel-item::before {content: \"\";position: absolute;border-left: 1px solid gray;box-sizing: border-box;top: 0;bottom: 0;left: 50%;z-index: -1;}#sk-container-id-1 div.sk-parallel-item {display: flex;flex-direction: column;z-index: 1;position: relative;background-color: white;}#sk-container-id-1 div.sk-parallel-item:first-child::after {align-self: flex-end;width: 50%;}#sk-container-id-1 div.sk-parallel-item:last-child::after {align-self: flex-start;width: 50%;}#sk-container-id-1 div.sk-parallel-item:only-child::after {width: 0;}#sk-container-id-1 div.sk-dashed-wrapped {border: 1px dashed gray;margin: 0 0.4em 0.5em 0.4em;box-sizing: border-box;padding-bottom: 0.4em;background-color: white;}#sk-container-id-1 div.sk-label label {font-family: monospace;font-weight: bold;display: inline-block;line-height: 1.2em;}#sk-container-id-1 div.sk-label-container {text-align: center;}#sk-container-id-1 div.sk-container {/* jupyter's `normalize.less` sets `[hidden] { display: none; }` but bootstrap.min.css set `[hidden] { display: none !important; }` so we also need the `!important` here to be able to override the default hidden behavior on the sphinx rendered scikit-learn.org. See: https://github.com/scikit-learn/scikit-learn/issues/21755 */display: inline-block !important;position: relative;}#sk-container-id-1 div.sk-text-repr-fallback {display: none;}</style><div id=\"sk-container-id-1\" class=\"sk-top-container\"><div class=\"sk-text-repr-fallback\"><pre>SVC()</pre><b>In a Jupyter environment, please rerun this cell to show the HTML representation or trust the notebook. <br />On GitHub, the HTML representation is unable to render, please try loading this page with nbviewer.org.</b></div><div class=\"sk-container\" hidden><div class=\"sk-item\"><div class=\"sk-estimator sk-toggleable\"><input class=\"sk-toggleable__control sk-hidden--visually\" id=\"sk-estimator-id-1\" type=\"checkbox\" checked><label for=\"sk-estimator-id-1\" class=\"sk-toggleable__label sk-toggleable__label-arrow\">SVC</label><div class=\"sk-toggleable__content\"><pre>SVC()</pre></div></div></div></div></div>"
      ],
      "text/plain": [
       "SVC()"
      ]
     },
     "execution_count": 11,
     "metadata": {},
     "output_type": "execute_result"
    }
   ],
   "source": [
    "# Train classifier\n",
    "\n",
    "svc_model = SVC()\n",
    "svc_model.fit(X_train, y_train)"
   ]
  },
  {
   "cell_type": "code",
   "execution_count": 12,
   "id": "7f7b645e-c971-430f-bf5c-c5fcde223d86",
   "metadata": {},
   "outputs": [],
   "source": [
    "# Predict the model\n",
    "\n",
    "y_pred_baseline_svm = svc_model.predict(X_valid)"
   ]
  },
  {
   "cell_type": "code",
   "execution_count": 13,
   "id": "64a12488-33ba-46fb-80b3-e159a0d68b8e",
   "metadata": {},
   "outputs": [
    {
     "name": "stdout",
     "output_type": "stream",
     "text": [
      "Classification report:\n",
      "               precision    recall  f1-score   support\n",
      "\n",
      "           0       0.88      1.00      0.94       827\n",
      "           1       0.97      0.34      0.50       169\n",
      "\n",
      "    accuracy                           0.89       996\n",
      "   macro avg       0.92      0.67      0.72       996\n",
      "weighted avg       0.89      0.89      0.86       996\n",
      "\n",
      "Confusion Matrix:\n",
      " [[825   2]\n",
      " [112  57]]\n"
     ]
    },
    {
     "data": {
      "image/png": "[encoded data removed]",
      "text/plain": [
       "<Figure size 640x480 with 2 Axes>"
      ]
     },
     "metadata": {},
     "output_type": "display_data"
    },
    {
     "name": "stdout",
     "output_type": "stream",
     "text": [
      "Accuracy: 0.8855421686746988\n",
      "Precision: 0.9661016949152542\n",
      "Recall: 0.33727810650887574\n",
      "Sensitivity: 0.33727810650887574\n",
      "Specificity: 0.9975816203143894\n",
      "F1-Score: 0.5\n",
      "Cohen Kappa Score: 0.4518648682571712\n",
      "G_measure: 0.5\n",
      "Informedness/Youdens statistic: 0.33485972682326515\n",
      "PPV: 0.9661016949152542\n",
      "NPV: 0.880469583778015\n",
      "Markedness: 0.8465712786932693\n",
      "Matthews Correlation Coefficient 0.5324308660470862\n",
      "ROC-AUC Score: 0.6674298634116325\n"
     ]
    },
    {
     "data": {
      "image/png": "[encoded data removed]",
      "text/plain": [
       "<Figure size 800x800 with 1 Axes>"
      ]
     },
     "metadata": {},
     "output_type": "display_data"
    }
   ],
   "source": [
    "em.metrics_calculation(y_valid, y_pred_baseline_svm, True)"
   ]
  },
  {
   "cell_type": "code",
   "execution_count": 14,
   "id": "cc65f733-6592-4cf9-83d3-4284ba98b8a7",
   "metadata": {},
   "outputs": [
    {
     "data": {
      "text/plain": [
       "{'C': 1.0,\n",
       " 'break_ties': False,\n",
       " 'cache_size': 200,\n",
       " 'class_weight': None,\n",
       " 'coef0': 0.0,\n",
       " 'decision_function_shape': 'ovr',\n",
       " 'degree': 3,\n",
       " 'gamma': 'scale',\n",
       " 'kernel': 'rbf',\n",
       " 'max_iter': -1,\n",
       " 'probability': False,\n",
       " 'random_state': None,\n",
       " 'shrinking': True,\n",
       " 'tol': 0.001,\n",
       " 'verbose': False}"
      ]
     },
     "execution_count": 14,
     "metadata": {},
     "output_type": "execute_result"
    }
   ],
   "source": [
    "svc_model.get_params()"
   ]
  },
  {
   "cell_type": "markdown",
   "id": "876ad911-2343-4a44-9bb3-c288f6c19f56",
   "metadata": {},
   "source": [
    "### Hyperparameter tuning"
   ]
  },
  {
   "cell_type": "code",
   "execution_count": 15,
   "id": "ef56ecc1-e92a-42b8-92c9-e75479665bb7",
   "metadata": {
    "tags": []
   },
   "outputs": [],
   "source": [
    "# defining a grid search like function for decision tree to get hyper parameters\n",
    "\n",
    "def svm_grid_search(C, kernel, params, X_train, X_test, y_train, y_test):\n",
    "    for k in range(0,len(C)):\n",
    "        for i in range(0, len(kernel)):\n",
    "            C_val = C[k]\n",
    "            kernel_val = kernel[i]\n",
    "        \n",
    "        svc_model = SVC(C = C_val, kernel = kernel_val, random_state=2023)\n",
    "        svc_model = svc_model.fit(X_train,y_train)\n",
    "        y_pred = svc_model.predict(X_test)\n",
    "        \n",
    "        accuracy = metrics.accuracy_score(y_test, y_pred)\n",
    "        F1_score = metrics.f1_score(y_test, y_pred, average='macro')\n",
    "        precision = metrics.precision_score(y_test, y_pred, average='macro')\n",
    "        recall = metrics.recall_score(y_test, y_pred, average='macro')\n",
    "        \n",
    "        parameters_dict = {'Regularization_parameter':C_val, 'Kernel':kernel_val, 'accuracy': accuracy, 'F1_score':F1_score, 'precision':precision, 'recall':recall}\n",
    "        params.append(parameters_dict)\n",
    "        \n",
    "        print(f'Regularization_parameter:{C_val}, Kernel:{kernel_val}, accuracy:{accuracy}, F1_score:{F1_score}')"
   ]
  },
  {
   "cell_type": "code",
   "execution_count": 16,
   "id": "0a01faa3-c6b3-4cce-9b70-2a47a58a68bf",
   "metadata": {
    "tags": []
   },
   "outputs": [],
   "source": [
    "C = [1, 10, 100]\n",
    "kernel = ['linear','rbf']\n",
    "params = list()"
   ]
  },
  {
   "cell_type": "code",
   "execution_count": 17,
   "id": "6e68f8be-9391-4f1c-93e6-b5f260e80f39",
   "metadata": {
    "tags": []
   },
   "outputs": [
    {
     "name": "stdout",
     "output_type": "stream",
     "text": [
      "Regularization_parameter:1, Kernel:rbf, accuracy:0.8855421686746988, F1_score:0.717687074829932\n",
      "Regularization_parameter:10, Kernel:rbf, accuracy:0.9166666666666666, F1_score:0.822749581359846\n",
      "Regularization_parameter:100, Kernel:rbf, accuracy:0.9387550200803213, F1_score:0.8812819114948796\n"
     ]
    }
   ],
   "source": [
    "svm_grid_search(C, kernel, params, X_train, X_valid, y_train, y_valid)"
   ]
  },
  {
   "cell_type": "code",
   "execution_count": 18,
   "id": "875a626b-8964-4b79-a0a5-290009e9a900",
   "metadata": {
    "tags": []
   },
   "outputs": [
    {
     "name": "stdout",
     "output_type": "stream",
     "text": [
      "+----+----------------------------+----------+------------+------------+-------------+----------+\n",
      "|    |   Regularization_parameter | Kernel   |   accuracy |   F1_score |   precision |   recall |\n",
      "|----+----------------------------+----------+------------+------------+-------------+----------|\n",
      "|  0 |                        100 | rbf      |   0.938755 |   0.881282 |    0.92365  | 0.850128 |\n",
      "|  1 |                         10 | rbf      |   0.916667 |   0.82275  |    0.918838 | 0.77327  |\n",
      "|  2 |                          1 | rbf      |   0.885542 |   0.717687 |    0.923286 | 0.66743  |\n",
      "+----+----------------------------+----------+------------+------------+-------------+----------+\n",
      "************************************************************************************************************************\n",
      "\n",
      "optimal hyper-parameters: {'Regularization_parameter': 100, 'Kernel': 'rbf', 'accuracy': 0.9387550200803213, 'F1_score': 0.8812819114948796, 'precision': 0.9236503099352427, 'recall': 0.8501284317022388}\n",
      "\n",
      "************************************************************************************************************************\n"
     ]
    }
   ],
   "source": [
    "# lets sort the metrics in descending order\n",
    "\n",
    "param_sorted = sorted(params, key=itemgetter('F1_score'), reverse=True)\n",
    "df = pd.DataFrame.from_dict(param_sorted)\n",
    "print(tabulate(df, headers = 'keys', tablefmt = 'psql'))\n",
    "\n",
    "# optimal set of hyperparameters will be the top value in the sorted parameter list\n",
    "\n",
    "opt_hparams = param_sorted[0]\n",
    "print('**'*60)\n",
    "print(f'\\noptimal hyper-parameters: {opt_hparams}\\n')\n",
    "print('**'*60)"
   ]
  },
  {
   "cell_type": "markdown",
   "id": "17477bf3-dc01-4713-88a5-90aec8c86c0b",
   "metadata": {},
   "source": [
    "### Cross validation"
   ]
  },
  {
   "cell_type": "code",
   "execution_count": 19,
   "id": "c4f025db-e303-416b-b214-fcdf6eaa151c",
   "metadata": {
    "tags": []
   },
   "outputs": [
    {
     "data": {
      "text/plain": [
       "{'Mean Train Accuracy': 0.9576466608349458,\n",
       " 'Mean Train Precision': 0.9905267591076885,\n",
       " 'Mean Train Recall': 0.7694680181364698,\n",
       " 'Mean Train F1 Score': 0.8660952010045803,\n",
       " 'Mean Valid Accuracy': 93.12685919557626,\n",
       " 'Mean Valid Precision': 0.886426297538712,\n",
       " 'Mean Valid Recall': 0.7042341141369899,\n",
       " 'Mean Valid F1 Score': 0.7842796013769054}"
      ]
     },
     "execution_count": 19,
     "metadata": {},
     "output_type": "execute_result"
    }
   ],
   "source": [
    "# using the optimal hyperparameters test the model robustness using k-fold cross validation\n",
    "\n",
    "svm_model_tuned = SVC(C = 100, kernel = 'rbf', random_state=2023)\n",
    "svm_model_tuned.fit(X_train_full, y_train_full)\n",
    "cv.cross_validation_func(svm_model_tuned, X_train_full, y_train_full, 5)"
   ]
  },
  {
   "cell_type": "markdown",
   "id": "bc2d37af-d9b2-4e71-a372-9e81c85877ea",
   "metadata": {},
   "source": [
    "### Testing SVM with optimal hyperparameters on unseen data"
   ]
  },
  {
   "cell_type": "code",
   "execution_count": null,
   "id": "32608179-7aad-44fe-8e0f-aaded00c0ed0",
   "metadata": {
    "tags": []
   },
   "outputs": [],
   "source": [
    "svc_model_opt_p = SVC(C = 100, kernel = 'rbf', random_state=2023)\n",
    "svc_model_opt_p.fit(X_train_full, y_train_full)\n",
    "y_pred_opt_SVC = svc_model_opt_p.predict(X_test)\n",
    "lc.plot_learning_curve(svc_model_opt_p, X_train_full, y_train_full, cv=5)"
   ]
  },
  {
   "cell_type": "code",
   "execution_count": null,
   "id": "975aa225-55e6-48ab-a1bc-2e25736442db",
   "metadata": {
    "tags": []
   },
   "outputs": [],
   "source": [
    "em.metrics_calculation(y_test, y_pred_opt_SVC, True)"
   ]
  },
  {
   "cell_type": "code",
   "execution_count": null,
   "id": "490732f9-5c1b-4095-9cab-747aa64b5535",
   "metadata": {},
   "outputs": [],
   "source": [
    "filename = 'svc_model_opt_p.sav'\n",
    "pickle.dump(svc_model_opt_p, open(filename, 'wb'))"
   ]
  },
  {
   "cell_type": "code",
   "execution_count": null,
   "id": "9d454c7a-9acd-4921-8606-4789fcad9dbb",
   "metadata": {
    "tags": []
   },
   "outputs": [],
   "source": [
    "loaded_model = pickle.load(open(filename, 'rb'))\n",
    "y_pred = loaded_model.predict(X_test)\n",
    "em.metrics_calculation(y_test, y_pred, True)"
   ]
  }
 ],
 "metadata": {
  "kernelspec": {
   "display_name": "Python 3 (ipykernel)",
   "language": "python",
   "name": "python3"
  },
  "language_info": {
   "codemirror_mode": {
    "name": "ipython",
    "version": 3
   },
   "file_extension": ".py",
   "mimetype": "text/x-python",
   "name": "python",
   "nbconvert_exporter": "python",
   "pygments_lexer": "ipython3",
   "version": "3.11.5"
  }
 },
 "nbformat": 4,
 "nbformat_minor": 5
}
