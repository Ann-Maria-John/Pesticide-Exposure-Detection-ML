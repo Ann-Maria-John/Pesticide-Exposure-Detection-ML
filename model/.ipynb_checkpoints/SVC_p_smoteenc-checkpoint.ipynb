{
 "cells": [
  {
   "cell_type": "code",
   "execution_count": null,
   "metadata": {
    "id": "hi8Sjc0_9q0C",
    "tags": []
   },
   "outputs": [],
   "source": [
    "import pandas as pd\n",
    "import numpy as np\n",
    "from sklearn.preprocessing import StandardScaler\n",
    "import utils.dimension_reduction as dr\n",
    "from sklearn.impute import KNNImputer\n",
    "from sklearn.model_selection import train_test_split\n",
    "from sklearn.tree import DecisionTreeClassifier\n",
    "from operator import itemgetter\n",
    "from tabulate import tabulate\n",
    "import utils.eval_metrics as em\n",
    "from sklearn import tree\n",
    "from sklearn import metrics\n",
    "import utils.learning_curve as lc\n",
    "import utils.cross_validation as cv\n",
    "import utils.oversampling as osm\n",
    "import pickle\n",
    "\n",
    "pd.set_option('display.max_columns', None)"
   ]
  },
  {
   "cell_type": "code",
   "execution_count": null,
   "metadata": {
    "id": "gLt9sEo3-TDN"
   },
   "outputs": [],
   "source": [
    "data = pd.read_csv(\"processed_data.csv\")"
   ]
  },
  {
   "cell_type": "code",
   "execution_count": null,
   "metadata": {
    "colab": {
     "base_uri": "https://localhost:8080/",
     "height": 313
    },
    "id": "4evYis8C-bQl",
    "outputId": "bc1afd2d-c4a7-4fa8-fe00-d878a5092b81"
   },
   "outputs": [],
   "source": [
    "data.head()"
   ]
  },
  {
   "cell_type": "markdown",
   "metadata": {
    "tags": []
   },
   "source": [
    "### Data preparation"
   ]
  },
  {
   "cell_type": "code",
   "execution_count": null,
   "metadata": {
    "id": "A4R9Dvu9-8yG"
   },
   "outputs": [],
   "source": [
    "y = data['UACR']\n",
    "X = data.drop(columns=['UACR'])"
   ]
  },
  {
   "cell_type": "code",
   "execution_count": null,
   "metadata": {
    "colab": {
     "base_uri": "https://localhost:8080/"
    },
    "id": "BvQ6CfVy_ABu",
    "outputId": "bf768513-a3a5-4ea2-8eaf-62510346a28a"
   },
   "outputs": [],
   "source": [
    "X.shape, y.shape"
   ]
  },
  {
   "cell_type": "markdown",
   "metadata": {
    "tags": []
   },
   "source": [
    "### Oversampling"
   ]
  },
  {
   "cell_type": "code",
   "execution_count": null,
   "metadata": {
    "id": "LbCip06602lp"
   },
   "outputs": [],
   "source": [
    "X_os,y_os = osm.oversample_data(X, y, method='smotenc', sampling_strategy=0.75)"
   ]
  },
  {
   "cell_type": "code",
   "execution_count": null,
   "metadata": {
    "colab": {
     "base_uri": "https://localhost:8080/"
    },
    "id": "6tw_KcyG2F2J",
    "outputId": "edc47f96-4f18-4a8c-c120-5f01a6b3e197"
   },
   "outputs": [],
   "source": [
    "X_os.shape, y_os.shape"
   ]
  },
  {
   "cell_type": "markdown",
   "metadata": {},
   "source": [
    "### p-significant features"
   ]
  },
  {
   "cell_type": "code",
   "execution_count": null,
   "metadata": {
    "colab": {
     "base_uri": "https://localhost:8080/"
    },
    "id": "KbrK97IgjM1w",
    "outputId": "b6357826-afb2-427b-f40e-484599806782"
   },
   "outputs": [],
   "source": [
    "X_significant = dr.get_p_values_significant_features(X_os,y_os)"
   ]
  },
  {
   "cell_type": "markdown",
   "metadata": {
    "tags": []
   },
   "source": [
    "### Train test split"
   ]
  },
  {
   "cell_type": "code",
   "execution_count": null,
   "metadata": {
    "id": "40DK0AK-_YB8"
   },
   "outputs": [],
   "source": [
    "X_train_full, X_test, y_train_full, y_test = train_test_split(X_significant, y_os, test_size=0.2, random_state=2)"
   ]
  },
  {
   "cell_type": "code",
   "execution_count": null,
   "metadata": {
    "id": "tQpKOS3B_bru"
   },
   "outputs": [],
   "source": [
    "X_train, X_valid, y_train, y_valid = train_test_split(X_train_full, y_train_full, test_size=0.2, random_state=2)"
   ]
  },
  {
   "cell_type": "code",
   "execution_count": null,
   "metadata": {
    "colab": {
     "base_uri": "https://localhost:8080/"
    },
    "id": "FfbsxQZd_f_O",
    "outputId": "5df56a1e-769f-43b5-d386-7d7681952588"
   },
   "outputs": [],
   "source": [
    "print('train data(X_train,y_train) shape: ',X_train.shape, y_train.shape)\n",
    "print('validation data(X_valid,y_valid) shape: ',X_valid.shape, y_valid.shape)\n",
    "print('test data(X_test,y_test) shape: ',X_test.shape, y_test.shape)"
   ]
  },
  {
   "cell_type": "markdown",
   "metadata": {
    "id": "xYS-DNMR_jNX",
    "tags": []
   },
   "source": [
    "### SVC Baseline"
   ]
  },
  {
   "cell_type": "code",
   "execution_count": null,
   "metadata": {
    "id": "_OoUhFm1_qy2",
    "tags": []
   },
   "outputs": [],
   "source": [
    "from sklearn.svm import SVC"
   ]
  },
  {
   "cell_type": "code",
   "execution_count": null,
   "metadata": {
    "colab": {
     "base_uri": "https://localhost:8080/"
    },
    "id": "IJt8Om3vDAak",
    "outputId": "c76dc5fe-81cb-4de0-8fec-85bc1748c221",
    "tags": []
   },
   "outputs": [],
   "source": [
    "# Train classifier\n",
    "\n",
    "svc_model = SVC()\n",
    "svc_model.fit(X_train, y_train)"
   ]
  },
  {
   "cell_type": "code",
   "execution_count": null,
   "metadata": {
    "colab": {
     "base_uri": "https://localhost:8080/",
     "height": 1000
    },
    "id": "G0wjv4SH_zzz",
    "outputId": "a3d6b03f-549d-4141-eee9-dee57a62d79a",
    "tags": []
   },
   "outputs": [],
   "source": [
    "# Predict the model\n",
    "\n",
    "y_pred_baseline_svm = svc_model.predict(X_valid)"
   ]
  },
  {
   "cell_type": "code",
   "execution_count": null,
   "metadata": {
    "colab": {
     "base_uri": "https://localhost:8080/",
     "height": 1000
    },
    "id": "QPrUFh_cAFhi",
    "outputId": "e99a1632-ca58-4f1b-9565-c1ebd5c27407",
    "tags": []
   },
   "outputs": [],
   "source": [
    "em.metrics_calculation(y_valid, y_pred_baseline_svm, True)"
   ]
  },
  {
   "cell_type": "code",
   "execution_count": null,
   "metadata": {
    "tags": []
   },
   "outputs": [],
   "source": [
    "svc_model.get_params()"
   ]
  },
  {
   "cell_type": "code",
   "execution_count": null,
   "metadata": {},
   "outputs": [],
   "source": [
    "scaler = StandardScaler()\n",
    "X_std = scaler.fit_transform(X_train_full)"
   ]
  },
  {
   "cell_type": "markdown",
   "metadata": {
    "id": "9C5eupNJEGQC",
    "tags": []
   },
   "source": [
    "### Hyperparameter tuning"
   ]
  },
  {
   "cell_type": "code",
   "execution_count": null,
   "metadata": {
    "tags": []
   },
   "outputs": [],
   "source": [
    "# defining a grid search like function for decision tree to get hyper parameters\n",
    "\n",
    "def svm_grid_search(C, kernel, params, X_train, X_test, y_train, y_test):\n",
    "    for k in range(0,len(C)):\n",
    "        for i in range(0, len(kernel)):\n",
    "            C_val = C[k]\n",
    "            kernel_val = kernel[i]\n",
    "        \n",
    "        svc_model = SVC(C = C_val, kernel = kernel_val, random_state=2023)\n",
    "        svc_model = svc_model.fit(X_train,y_train)\n",
    "        y_pred = svc_model.predict(X_test)\n",
    "        \n",
    "        accuracy = metrics.accuracy_score(y_test, y_pred)\n",
    "        F1_score = metrics.f1_score(y_test, y_pred, average='macro')\n",
    "        precision = metrics.precision_score(y_test, y_pred, average='macro')\n",
    "        recall = metrics.recall_score(y_test, y_pred, average='macro')\n",
    "        \n",
    "        parameters_dict = {'Regularization_parameter':C_val, 'Kernel':kernel_val, 'accuracy': accuracy, 'F1_score':F1_score, 'precision':precision, 'recall':recall}\n",
    "        params.append(parameters_dict)\n",
    "        \n",
    "        print(f'Regularization_parameter:{C_val}, Kernel:{kernel_val}, accuracy:{accuracy}, F1_score:{F1_score}')"
   ]
  },
  {
   "cell_type": "code",
   "execution_count": null,
   "metadata": {
    "tags": []
   },
   "outputs": [],
   "source": [
    "C = [1, 10, 100]\n",
    "kernel = ['linear','rbf']\n",
    "params = list()"
   ]
  },
  {
   "cell_type": "code",
   "execution_count": null,
   "metadata": {
    "tags": []
   },
   "outputs": [],
   "source": [
    "svm_grid_search(C, kernel, params, X_train, X_valid, y_train, y_valid)"
   ]
  },
  {
   "cell_type": "code",
   "execution_count": null,
   "metadata": {
    "tags": []
   },
   "outputs": [],
   "source": [
    "# lets sort the metrics in descending order\n",
    "\n",
    "param_sorted = sorted(params, key=itemgetter('F1_score'), reverse=True)\n",
    "df = pd.DataFrame.from_dict(param_sorted)\n",
    "print(tabulate(df, headers = 'keys', tablefmt = 'psql'))\n",
    "\n",
    "# optimal set of hyperparameters will be the top value in the sorted parameter list\n",
    "\n",
    "opt_hparams = param_sorted[0]\n",
    "print('**'*60)\n",
    "print(f'\\noptimal hyper-parameters: {opt_hparams}\\n')\n",
    "print('**'*60)"
   ]
  },
  {
   "cell_type": "markdown",
   "metadata": {},
   "source": [
    "### Cross validation"
   ]
  },
  {
   "cell_type": "code",
   "execution_count": null,
   "metadata": {
    "tags": []
   },
   "outputs": [],
   "source": [
    "# using the optimal hyperparameters test the model robustness using k-fold cross validation\n",
    "\n",
    "svm_model_tuned = SVC(C = 100, kernel = 'rbf', random_state=2023)\n",
    "svm_model_tuned.fit(X_train_full, y_train_full)\n",
    "cv.cross_validation_func(svm_model_tuned, X_train_full, y_train_full, 5)"
   ]
  },
  {
   "cell_type": "markdown",
   "metadata": {},
   "source": [
    "### Testing SVM with optimal hyperparameters on unseen data"
   ]
  },
  {
   "cell_type": "code",
   "execution_count": null,
   "metadata": {
    "tags": []
   },
   "outputs": [],
   "source": [
    "svc_model_opt_p_smote = SVC(C = 100, kernel = 'rbf', random_state=2023)\n",
    "svc_model_opt_p_smote.fit(X_train_full, y_train_full)\n",
    "y_pred_opt_SVC = svc_model_opt_p_smote.predict(X_test)\n",
    "lc.plot_learning_curve(svc_model_opt_p_smote, X_train_full, y_train_full, cv=5)"
   ]
  },
  {
   "cell_type": "code",
   "execution_count": null,
   "metadata": {
    "tags": []
   },
   "outputs": [],
   "source": [
    "em.metrics_calculation(y_test, y_pred_opt_SVC, True)"
   ]
  },
  {
   "cell_type": "code",
   "execution_count": null,
   "metadata": {},
   "outputs": [],
   "source": [
    "filename = 'svc_model_opt_p_smote.sav'\n",
    "pickle.dump(svc_model_opt_p_smote, open(filename, 'wb'))"
   ]
  },
  {
   "cell_type": "code",
   "execution_count": null,
   "metadata": {
    "tags": []
   },
   "outputs": [],
   "source": [
    "loaded_model = pickle.load(open(filename, 'rb'))\n",
    "y_pred = loaded_model.predict(X_test)\n",
    "em.metrics_calculation(y_test, y_pred, True)"
   ]
  }
 ],
 "metadata": {
  "colab": {
   "authorship_tag": "ABX9TyNt+RyfFNr/sVG6MvMXW6U3",
   "include_colab_link": true,
   "provenance": []
  },
  "kernelspec": {
   "display_name": "Python 3 (ipykernel)",
   "language": "python",
   "name": "python3"
  },
  "language_info": {
   "codemirror_mode": {
    "name": "ipython",
    "version": 3
   },
   "file_extension": ".py",
   "mimetype": "text/x-python",
   "name": "python",
   "nbconvert_exporter": "python",
   "pygments_lexer": "ipython3",
   "version": "3.11.5"
  }
 },
 "nbformat": 4,
 "nbformat_minor": 4
}
